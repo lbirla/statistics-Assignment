{
 "cells": [
  {
   "cell_type": "code",
   "execution_count": 1,
   "id": "unlikely-introduction",
   "metadata": {},
   "outputs": [],
   "source": [
    "%config Completer.use_jedi = False #this is command used for enable autocompletion in jupyter notebook"
   ]
  },
  {
   "cell_type": "markdown",
   "id": "informative-lottery",
   "metadata": {},
   "source": [
    "# Problem Statement 1:\n"
   ]
  },
  {
   "cell_type": "markdown",
   "id": "connected-delaware",
   "metadata": {},
   "source": [
    "The marks awarded for an assignment set for a Year 8 class of 20 students were as\n",
    "follows:\n",
    "6 7 5 7 7 8 7 6 9 7 4 10 6 8 8 9 5 6 4 8"
   ]
  },
  {
   "cell_type": "markdown",
   "id": "smaller-warning",
   "metadata": {},
   "source": [
    "# A standard deviation (or σ) is a measure of how dispersed the data is in relation to the mean. Low standard deviation means data are clustered around the mean, and high standard deviation indicates data are more spread out. A standard deviation close to zero indicates that data points are close to the mean, whereas a high or low standard deviation indicates data points are respectively above or below the mean"
   ]
  },
  {
   "cell_type": "code",
   "execution_count": 2,
   "id": "spiritual-parts",
   "metadata": {},
   "outputs": [],
   "source": [
    "import numpy as np\n",
    "from scipy import stats"
   ]
  },
  {
   "cell_type": "code",
   "execution_count": 3,
   "id": "alpine-enterprise",
   "metadata": {},
   "outputs": [],
   "source": [
    "marks = [6, 7, 5, 7, 7, 8, 7, 6, 9, 7 ,4, 10, 6 ,8, 8 ,9, 5 ,6, 4, 8]"
   ]
  },
  {
   "cell_type": "code",
   "execution_count": 38,
   "id": "external-anderson",
   "metadata": {},
   "outputs": [
    {
     "name": "stdout",
     "output_type": "stream",
     "text": [
      " Mean : 6.85\n",
      "Median : 7.0\n",
      "Mode : 7\n",
      "Standard Deviation : 1.5898113095584647\n"
     ]
    }
   ],
   "source": [
    "mean=np.mean(marks)\n",
    "median=np.median(marks)\n",
    "mode=stats.mode(marks)\n",
    "std_deviation=np.std(marks)\n",
    "print(\" Mean :\", mean)\n",
    "print(\"Median :\",median)\n",
    "print(\"Mode :\",mode[0][0])\n",
    "print(\"Standard Deviation :\", std_deviation)\n"
   ]
  },
  {
   "cell_type": "code",
   "execution_count": 28,
   "id": "twelve-investigation",
   "metadata": {},
   "outputs": [],
   "source": [
    "def stdv(iterable_object):\n",
    "    try:\n",
    "        mean = sum(iterable_object)/len(iterable_object)\n",
    "        sum_ = 0\n",
    "        for i in iterable_object:\n",
    "            sum_ = sum_ + (i - mean)**2\n",
    "            var = sum_/len(marks)\n",
    "            stdv = (var)**.5\n",
    "        return stdv\n",
    "    except Exception as e:\n",
    "        print(\"this is error \", e)"
   ]
  },
  {
   "cell_type": "code",
   "execution_count": 29,
   "id": "extra-lafayette",
   "metadata": {},
   "outputs": [
    {
     "data": {
      "text/plain": [
       "1.5898113095584647"
      ]
     },
     "execution_count": 29,
     "metadata": {},
     "output_type": "execute_result"
    }
   ],
   "source": [
    "stdv(marks)"
   ]
  },
  {
   "cell_type": "markdown",
   "id": "published-sponsorship",
   "metadata": {},
   "source": [
    "# Problem Statement 2:Calculate the mean, median, mode and standard deviation\n"
   ]
  },
  {
   "cell_type": "raw",
   "id": "legislative-programmer",
   "metadata": {},
   "source": [
    "The number of calls from motorists per day for roadside service was recorded for a\n",
    "particular month:\n",
    "28, 122, 217, 130, 120, 86, 80, 90, 140, 120, 70, 40, 145, 113, 90, 68, 174, 194, 170, \n",
    "100, 75, 104, 97, 75,123, 100, 75, 104, 97, 75, 123, 100, 89, 120, 109"
   ]
  },
  {
   "cell_type": "code",
   "execution_count": 39,
   "id": "universal-valley",
   "metadata": {},
   "outputs": [
    {
     "name": "stdout",
     "output_type": "stream",
     "text": [
      " Mean : 107.51428571428572\n",
      "Median : 100.0\n",
      "Mode : 75\n",
      "Standard Deviation : 38.77287080168403\n"
     ]
    }
   ],
   "source": [
    "no_calls=[28, 122, 217, 130, 120, 86, 80, 90, 140, 120, 70, 40, 145, 113, 90, 68, 174, 194, 170,  \n",
    "          100, 75, 104, 97, 75,123, 100, 75, 104, 97, 75, 123, 100, 89, 120, 109]\n",
    "mean=np.mean(no_calls)\n",
    "median=np.median(no_calls)\n",
    "mode=stats.mode(no_calls)\n",
    "std_deviation=np.std(no_calls)\n",
    "print(\" Mean :\", mean)\n",
    "print(\"Median :\",median)\n",
    "print(\"Mode :\",mode[0][0])\n",
    "print(\"Standard Deviation :\", std_deviation)"
   ]
  },
  {
   "cell_type": "markdown",
   "id": "regular-barrel",
   "metadata": {},
   "source": [
    "# Problem Statement 3:"
   ]
  },
  {
   "cell_type": "raw",
   "id": "limiting-gazette",
   "metadata": {},
   "source": [
    "The number of times I go to the gym in weekdays, are given below along with its\n",
    "associated probability:\n",
    "x = 0, 1, 2, 3, 4, 5\n",
    "f(x) = 0.09, 0.15, 0.40, 0.25, 0.10, 0.01\n",
    "Calculate the mean no. of workouts in a week. Also evaluate the variance involved in\n",
    "it."
   ]
  },
  {
   "cell_type": "markdown",
   "id": "psychological-bachelor",
   "metadata": {},
   "source": [
    "# Here we to calculate Expected mean nu0, variance nu1\n",
    "# μ = Σxp\n",
    "# Var(X) = Σx2p − μ2"
   ]
  },
  {
   "cell_type": "code",
   "execution_count": 86,
   "id": "exclusive-delivery",
   "metadata": {},
   "outputs": [],
   "source": [
    "x=[ 0, 1, 2, 3, 4, 5]\n",
    "p = [0.09, 0.15, 0.40, 0.25, 0.10, 0.01]\n"
   ]
  },
  {
   "cell_type": "code",
   "execution_count": 92,
   "id": "african-channels",
   "metadata": {},
   "outputs": [
    {
     "name": "stdout",
     "output_type": "stream",
     "text": [
      "mean no. of workouts in a week:  2.15\n"
     ]
    }
   ],
   "source": [
    "expected_mean = 0\n",
    "var =0\n",
    "for i in range(len(x)):\n",
    "    expected_mean = expected_mean + x[i]*p[i]\n",
    "print(\"mean no. of workouts in a week: \",expected_mean)\n",
    "\n",
    "    "
   ]
  },
  {
   "cell_type": "code",
   "execution_count": 95,
   "id": "satellite-center",
   "metadata": {},
   "outputs": [
    {
     "name": "stdout",
     "output_type": "stream",
     "text": [
      "Variance : 1.2275\n"
     ]
    }
   ],
   "source": [
    "var=0\n",
    "for i in range(len(x)):\n",
    "    var = var + ((x[i]-expected_mean)**2)*p[i]\n",
    "print (\"Variance :\",var)"
   ]
  },
  {
   "cell_type": "markdown",
   "id": "congressional-liver",
   "metadata": {},
   "source": [
    "Problem Statement 4:\n",
    "\n",
    "\n",
    "Let the continuous random variable D denote the diameter of the hole drilled in an\n",
    "aluminum sheet. \n",
    "The target diameter to be achieved is 12.5mm.\n",
    "Random\n",
    "disturbances in the process often result in inaccuracy.\n",
    "Historical data shows that the distribution of D can be modelled by the PDF (d) =\n",
    "20e−20(d−12.5), d ≥ 12.5. If a part with diameter > 12.6 mm needs to be scrapped,\n",
    "what is the proportion of those parts? What is the CDF when the diameter is of 11\n",
    "mm? What is your conclusion regarding the proportion of scraps?"
   ]
  },
  {
   "cell_type": "markdown",
   "id": "romantic-newsletter",
   "metadata": {},
   "source": []
  },
  {
   "cell_type": "markdown",
   "id": "efficient-clerk",
   "metadata": {},
   "source": [
    "   <img src=\"assign_1_1.jpeg\">\n",
    "   <img src=\"assing_2.jpeg\">"
   ]
  },
  {
   "cell_type": "markdown",
   "id": "infrared-canada",
   "metadata": {},
   "source": [
    "Problem Statement 5:\n",
    "\n",
    "A company manufactures LED bulbs with a faulty rate of 30%. If I randomly select 6\n",
    "chosen LEDs, what is the probability of having 2 faulty LEDs in my sample?\n",
    "Calculate the average value of this process. Also evaluate the standard deviation\n",
    "associated with it.\n",
    "\n",
    "\n",
    "<img src=\"stat_assign_5.jpeg\">"
   ]
  },
  {
   "cell_type": "code",
   "execution_count": null,
   "id": "italic-gardening",
   "metadata": {},
   "outputs": [],
   "source": []
  }
 ],
 "metadata": {
  "kernelspec": {
   "display_name": "Python 3",
   "language": "python",
   "name": "python3"
  },
  "language_info": {
   "codemirror_mode": {
    "name": "ipython",
    "version": 3
   },
   "file_extension": ".py",
   "mimetype": "text/x-python",
   "name": "python",
   "nbconvert_exporter": "python",
   "pygments_lexer": "ipython3",
   "version": "3.7.0"
  }
 },
 "nbformat": 4,
 "nbformat_minor": 5
}
