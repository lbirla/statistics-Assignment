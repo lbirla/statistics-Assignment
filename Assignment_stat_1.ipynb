{
 "cells": [
  {
   "cell_type": "code",
   "execution_count": 1,
   "id": "unlikely-introduction",
   "metadata": {},
   "outputs": [],
   "source": [
    "%config Completer.use_jedi = False #this is command used for enable autocompletion in jupyter notebook"
   ]
  },
  {
   "cell_type": "markdown",
   "id": "informative-lottery",
   "metadata": {},
   "source": [
    "# Problem Statement 1:\n"
   ]
  },
  {
   "cell_type": "markdown",
   "id": "union-start",
   "metadata": {},
   "source": [
    "The marks awarded for an assignment set for a Year 8 class of 20 students were as\n",
    "follows:\n",
    "6 7 5 7 7 8 7 6 9 7 4 10 6 8 8 9 5 6 4 8"
   ]
  },
  {
   "cell_type": "markdown",
   "id": "smaller-warning",
   "metadata": {},
   "source": [
    "# A standard deviation (or σ) is a measure of how dispersed the data is in relation to the mean. Low standard deviation means data are clustered around the mean, and high standard deviation indicates data are more spread out. A standard deviation close to zero indicates that data points are close to the mean, whereas a high or low standard deviation indicates data points are respectively above or below the mean"
   ]
  },
  {
   "cell_type": "code",
   "execution_count": 2,
   "id": "spiritual-parts",
   "metadata": {},
   "outputs": [],
   "source": [
    "import numpy as np\n",
    "from scipy import stats"
   ]
  },
  {
   "cell_type": "code",
   "execution_count": 3,
   "id": "alpine-enterprise",
   "metadata": {},
   "outputs": [],
   "source": [
    "marks = [6, 7, 5, 7, 7, 8, 7, 6, 9, 7 ,4, 10, 6 ,8, 8 ,9, 5 ,6, 4, 8]"
   ]
  },
  {
   "cell_type": "code",
   "execution_count": 38,
   "id": "external-anderson",
   "metadata": {},
   "outputs": [
    {
     "name": "stdout",
     "output_type": "stream",
     "text": [
      " Mean : 6.85\n",
      "Median : 7.0\n",
      "Mode : 7\n",
      "Standard Deviation : 1.5898113095584647\n"
     ]
    }
   ],
   "source": [
    "mean=np.mean(marks)\n",
    "median=np.median(marks)\n",
    "mode=stats.mode(marks)\n",
    "std_deviation=np.std(marks)\n",
    "print(\" Mean :\", mean)\n",
    "print(\"Median :\",median)\n",
    "print(\"Mode :\",mode[0][0])\n",
    "print(\"Standard Deviation :\", std_deviation)\n"
   ]
  },
  {
   "cell_type": "code",
   "execution_count": 28,
   "id": "twelve-investigation",
   "metadata": {},
   "outputs": [],
   "source": [
    "def stdv(iterable_object):\n",
    "    try:\n",
    "        mean = sum(iterable_object)/len(iterable_object)\n",
    "        sum_ = 0\n",
    "        for i in iterable_object:\n",
    "            sum_ = sum_ + (i - mean)**2\n",
    "            var = sum_/len(marks)\n",
    "            stdv = (var)**.5\n",
    "        return stdv\n",
    "    except Exception as e:\n",
    "        print(\"this is error \", e)"
   ]
  },
  {
   "cell_type": "code",
   "execution_count": 29,
   "id": "extra-lafayette",
   "metadata": {},
   "outputs": [
    {
     "data": {
      "text/plain": [
       "1.5898113095584647"
      ]
     },
     "execution_count": 29,
     "metadata": {},
     "output_type": "execute_result"
    }
   ],
   "source": [
    "stdv(marks)"
   ]
  },
  {
   "cell_type": "markdown",
   "id": "published-sponsorship",
   "metadata": {},
   "source": [
    "# Problem Statement 2:Calculate the mean, median, mode and standard deviation\n"
   ]
  },
  {
   "cell_type": "raw",
   "id": "legislative-programmer",
   "metadata": {},
   "source": [
    "The number of calls from motorists per day for roadside service was recorded for a\n",
    "particular month:\n",
    "28, 122, 217, 130, 120, 86, 80, 90, 140, 120, 70, 40, 145, 113, 90, 68, 174, 194, 170, \n",
    "100, 75, 104, 97, 75,123, 100, 75, 104, 97, 75, 123, 100, 89, 120, 109"
   ]
  },
  {
   "cell_type": "code",
   "execution_count": 39,
   "id": "universal-valley",
   "metadata": {},
   "outputs": [
    {
     "name": "stdout",
     "output_type": "stream",
     "text": [
      " Mean : 107.51428571428572\n",
      "Median : 100.0\n",
      "Mode : 75\n",
      "Standard Deviation : 38.77287080168403\n"
     ]
    }
   ],
   "source": [
    "no_calls=[28, 122, 217, 130, 120, 86, 80, 90, 140, 120, 70, 40, 145, 113, 90, 68, 174, 194, 170,  \n",
    "          100, 75, 104, 97, 75,123, 100, 75, 104, 97, 75, 123, 100, 89, 120, 109]\n",
    "mean=np.mean(no_calls)\n",
    "median=np.median(no_calls)\n",
    "mode=stats.mode(no_calls)\n",
    "std_deviation=np.std(no_calls)\n",
    "print(\" Mean :\", mean)\n",
    "print(\"Median :\",median)\n",
    "print(\"Mode :\",mode[0][0])\n",
    "print(\"Standard Deviation :\", std_deviation)"
   ]
  },
  {
   "cell_type": "markdown",
   "id": "regular-barrel",
   "metadata": {},
   "source": [
    "# Problem Statement 3:"
   ]
  },
  {
   "cell_type": "raw",
   "id": "limiting-gazette",
   "metadata": {},
   "source": [
    "The number of times I go to the gym in weekdays, are given below along with its\n",
    "associated probability:\n",
    "x = 0, 1, 2, 3, 4, 5\n",
    "f(x) = 0.09, 0.15, 0.40, 0.25, 0.10, 0.01\n",
    "Calculate the mean no. of workouts in a week. Also evaluate the variance involved in\n",
    "it."
   ]
  },
  {
   "cell_type": "markdown",
   "id": "psychological-bachelor",
   "metadata": {},
   "source": [
    "# Here we to calculate Expected mean nu0, variance nu1\n",
    "# μ = Σxp\n",
    "# Var(X) = Σx2p − μ2"
   ]
  },
  {
   "cell_type": "code",
   "execution_count": 86,
   "id": "exclusive-delivery",
   "metadata": {},
   "outputs": [],
   "source": [
    "x=[ 0, 1, 2, 3, 4, 5]\n",
    "p = [0.09, 0.15, 0.40, 0.25, 0.10, 0.01]\n"
   ]
  },
  {
   "cell_type": "code",
   "execution_count": 92,
   "id": "african-channels",
   "metadata": {},
   "outputs": [
    {
     "name": "stdout",
     "output_type": "stream",
     "text": [
      "mean no. of workouts in a week:  2.15\n"
     ]
    }
   ],
   "source": [
    "expected_mean = 0\n",
    "var =0\n",
    "for i in range(len(x)):\n",
    "    expected_mean = expected_mean + x[i]*p[i]\n",
    "print(\"mean no. of workouts in a week: \",expected_mean)\n",
    "\n",
    "    "
   ]
  },
  {
   "cell_type": "code",
   "execution_count": 95,
   "id": "satellite-center",
   "metadata": {},
   "outputs": [
    {
     "name": "stdout",
     "output_type": "stream",
     "text": [
      "Variance : 1.2275\n"
     ]
    }
   ],
   "source": [
    "var=0\n",
    "for i in range(len(x)):\n",
    "    var = var + ((x[i]-expected_mean)**2)*p[i]\n",
    "print (\"Variance :\",var)"
   ]
  },
  {
   "cell_type": "markdown",
   "id": "congressional-liver",
   "metadata": {},
   "source": [
    "Problem Statement 4:\n",
    "\n",
    "\n",
    "Let the continuous random variable D denote the diameter of the hole drilled in an\n",
    "aluminum sheet. \n",
    "The target diameter to be achieved is 12.5mm.\n",
    "Random\n",
    "disturbances in the process often result in inaccuracy.\n",
    "Historical data shows that the distribution of D can be modelled by the PDF (d) =\n",
    "20e−20(d−12.5), d ≥ 12.5. If a part with diameter > 12.6 mm needs to be scrapped,\n",
    "what is the proportion of those parts? What is the CDF when the diameter is of 11\n",
    "mm? What is your conclusion regarding the proportion of scraps?"
   ]
  },
  {
   "cell_type": "markdown",
   "id": "romantic-newsletter",
   "metadata": {},
   "source": []
  },
  {
   "cell_type": "markdown",
   "id": "distributed-coaching",
   "metadata": {},
   "source": [
    "   <img src=\"assign_1_1.jpeg\">\n",
    "   <img src=\"assing_2.jpeg\">"
   ]
  },
  {
   "cell_type": "markdown",
   "id": "commercial-hampton",
   "metadata": {},
   "source": [
    "Problem Statement 5:\n",
    "\n",
    "A company manufactures LED bulbs with a faulty rate of 30%. If I randomly select 6\n",
    "chosen LEDs, what is the probability of having 2 faulty LEDs in my sample?\n",
    "Calculate the average value of this process. Also evaluate the standard deviation\n",
    "associated with it.\n",
    "\n",
    "\n",
    "<img src=\"stat_assign_5.jpeg\">"
   ]
  },
  {
   "cell_type": "code",
   "execution_count": 41,
   "id": "confirmed-humanitarian",
   "metadata": {},
   "outputs": [
    {
     "name": "stdout",
     "output_type": "stream",
     "text": [
      "Probability of having 2 faulty LEDs in my sample:  0.3241349999999999\n",
      "Standar deviation : 1.1224972160321822\n",
      "Mean : 1.7999999999999998\n"
     ]
    }
   ],
   "source": [
    "from scipy.stats import binom\n",
    "n = 6\n",
    "p=0.7\n",
    "q=0.3\n",
    "k = 4 #number of success \n",
    "r = 2 #nuber of failure \n",
    "# we have to find out probability of 2 faulty LEDs, \n",
    "p = binom.pmf(r,n,q)\n",
    "print( \"Probability of having 2 faulty LEDs in my sample: \",p)\n",
    "# valuate the standard deviation associated with it\n",
    "\n",
    "print(\"Standar deviation :\" , binom.var(n,q)**0.5)\n",
    "\n",
    "print(\"Mean :\", binom.mean(n,q))\n"
   ]
  },
  {
   "cell_type": "markdown",
   "id": "statewide-access",
   "metadata": {},
   "source": [
    "Problem Statement 6:\n",
    "\n",
    "Gaurav and Barakha are both preparing for entrance exams. Gaurav attempts to\n",
    "solve 8 questions per day with a correction rate of 75%, while Barakha averages\n",
    "around 12 questions per day with a correction rate of 45%. What is the probability\n",
    "that each of them will solve 5 questions correctly? What happens in cases of 4 and 6\n",
    "correct solutions? What do you infer from it? What are the two main governing\n",
    "factors affecting their ability to solve questions correctly? Give a pictorial\n",
    "representation of the same to validate your answer."
   ]
  },
  {
   "cell_type": "markdown",
   "id": "little-adobe",
   "metadata": {},
   "source": [
    "<img src=\"prbl_5.jpeg\">"
   ]
  },
  {
   "cell_type": "code",
   "execution_count": 2,
   "id": "purple-answer",
   "metadata": {},
   "outputs": [
    {
     "data": {
      "text/plain": [
       "[0, 1, 2, 3, 4, 5, 6, 7, 8, 9]"
      ]
     },
     "execution_count": 2,
     "metadata": {},
     "output_type": "execute_result"
    }
   ],
   "source": []
  },
  {
   "cell_type": "code",
   "execution_count": 5,
   "id": "brilliant-chancellor",
   "metadata": {},
   "outputs": [],
   "source": [
    "from scipy.stats import binom\n",
    "import matplotlib.pyplot as plt"
   ]
  },
  {
   "cell_type": "code",
   "execution_count": 44,
   "id": "planned-liechtenstein",
   "metadata": {},
   "outputs": [
    {
     "data": {
      "text/plain": [
       "<BarContainer object of 13 artists>"
      ]
     },
     "execution_count": 44,
     "metadata": {},
     "output_type": "execute_result"
    },
    {
     "data": {
      "image/png": "[encoded data removed]",
      "text/plain": [
       "<Figure size 1440x360 with 2 Axes>"
      ]
     },
     "metadata": {
      "needs_background": "light"
     },
     "output_type": "display_data"
    }
   ],
   "source": [
    "n_Gaurav = 8\n",
    "p_gaurav = 0.75\n",
    "n_Barkha = 12\n",
    "p_Barkha=0.45\n",
    "\n",
    "r_value_Gaurav  = list(range(n_Gaurav +1))\n",
    "r_value_Barkaha = list(range(n_Barkha +1))\n",
    "\n",
    "pmf_gaurav = [binom.pmf(r , n_Gaurav,p_gaurav) for r in r_value_Gaurav]\n",
    "pmf_barkha = [binom.pmf(r, n_Barkha,p_Barkha) for r in r_value_Barkaha]\n",
    "\n",
    "fig = plt.figure(figsize=(20,5))# figsize = (width , hieght)\n",
    "plt.subplot(1,2,1)\n",
    "plt.xlabel('Number of questions solved correctly')\n",
    "plt.ylabel('Probability of solving Questions')\n",
    "plt.bar(r_value_Gaurav,pmf_gaurav)\n",
    "\n",
    "plt.subplot(1,2,2)\n",
    "plt.xlabel('Number of questions solved correctly')\n",
    "plt.ylabel('Probability of solving Questions')\n",
    "plt.bar(r_value_Barkaha,pmf_barkha)"
   ]
  },
  {
   "cell_type": "markdown",
   "id": "another-satin",
   "metadata": {},
   "source": [
    "# Problem Statement 7:\n",
    "Customers arrive at a rate of 72 per hour to my shop. What is the probability of k customers arriving in 4 minutes? a) 5 customers, b) not more than 3 customers, c) more than 3 customers. Give a pictorial representation of the same to validate your answer."
   ]
  },
  {
   "cell_type": "markdown",
   "id": "caring-vaccine",
   "metadata": {},
   "source": [
    "#### How to decide when to use binomial or Poisson ?\n",
    "\n",
    "###### i. > Suppose you have given average number of probability per unit time and you have to find certain number of probability for a particular time then poisson is used.\n",
    "######  ii.> If you have given exact probability and need to find out probability happening certain number of time out of 10 times, 100 times etc."
   ]
  },
  {
   "cell_type": "code",
   "execution_count": 46,
   "id": "secondary-strand",
   "metadata": {},
   "outputs": [],
   "source": [
    "from scipy.stats import poisson\n",
    "import matplotlib.pyplot as plt\n",
    "\n",
    "\n",
    "# 1 hrs 72 customer so per mint 72/60 =1.2 then in 4 min = 4.8 custmor should arrive in shop so Mu = 4.8\n",
    "\n",
    "\n"
   ]
  },
  {
   "cell_type": "code",
   "execution_count": 55,
   "id": "apparent-vermont",
   "metadata": {},
   "outputs": [
    {
     "name": "stderr",
     "output_type": "stream",
     "text": [
      "C:\\Users\\SANU\\Miniconda3\\lib\\site-packages\\seaborn\\distributions.py:2619: FutureWarning: `distplot` is a deprecated function and will be removed in a future version. Please adapt your code to use either `displot` (a figure-level function with similar flexibility) or `histplot` (an axes-level function for histograms).\n",
      "  warnings.warn(msg, FutureWarning)\n",
      "C:\\Users\\SANU\\Miniconda3\\lib\\site-packages\\matplotlib\\cbook\\__init__.py:2064: FutureWarning: Support for multi-dimensional indexing (e.g. `obj[:, None]`) is deprecated and will be removed in a future version.  Convert to a numpy array before indexing instead.\n",
      "  x[:, None]\n",
      "C:\\Users\\SANU\\Miniconda3\\lib\\site-packages\\matplotlib\\axes\\_base.py:248: FutureWarning: Support for multi-dimensional indexing (e.g. `obj[:, None]`) is deprecated and will be removed in a future version.  Convert to a numpy array before indexing instead.\n",
      "  x = x[:, np.newaxis]\n",
      "C:\\Users\\SANU\\Miniconda3\\lib\\site-packages\\matplotlib\\axes\\_base.py:250: FutureWarning: Support for multi-dimensional indexing (e.g. `obj[:, None]`) is deprecated and will be removed in a future version.  Convert to a numpy array before indexing instead.\n",
      "  y = y[:, np.newaxis]\n"
     ]
    },
    {
     "data": {
      "image/png": "[encoded data removed]",
      "text/plain": [
       "<Figure size 432x288 with 1 Axes>"
      ]
     },
     "metadata": {
      "needs_background": "light"
     },
     "output_type": "display_data"
    }
   ],
   "source": [
    "mu = 4.8\n",
    "data_poisson = poisson.rvs(mu, size = 100) #Random variates\n",
    "import seaborn as sb\n",
    "\n",
    "ax = sb.distplot(data_poisson)\n",
    "\n",
    "ax.set(xlabel='Customers per 4 minutes', ylabel='Frequency')\n",
    "plt.title('Poisson distribution')\n",
    "plt.show()"
   ]
  },
  {
   "cell_type": "code",
   "execution_count": 50,
   "id": "central-funds",
   "metadata": {},
   "outputs": [],
   "source": [
    "r_value_lessthan_3 = list(range(4))\n",
    "pmf=[poisson(r, mu) for r in r_value_lessthan_3]"
   ]
  },
  {
   "cell_type": "code",
   "execution_count": 56,
   "id": "revised-needle",
   "metadata": {},
   "outputs": [
    {
     "data": {
      "text/plain": [
       "0.17474768364388296"
      ]
     },
     "execution_count": 56,
     "metadata": {},
     "output_type": "execute_result"
    }
   ],
   "source": [
    "poisson.pmf(k=5,mu=4.8)"
   ]
  },
  {
   "cell_type": "code",
   "execution_count": 84,
   "id": "touched-loading",
   "metadata": {},
   "outputs": [
    {
     "name": "stdout",
     "output_type": "stream",
     "text": [
      "Probability not more than 3 customers : 0.2942299164965642\n",
      "Probability  more than 3 customers : 0.7057700835034357\n"
     ]
    },
    {
     "data": {
      "image/png": "[encoded data removed]",
      "text/plain": [
       "<Figure size 432x288 with 1 Axes>"
      ]
     },
     "metadata": {
      "needs_background": "light"
     },
     "output_type": "display_data"
    }
   ],
   "source": [
    "import numpy as np\n",
    "\n",
    "x=np.arange(0,50)\n",
    "\n",
    "cdf =poisson.cdf(x,4.8)\n",
    "y=cdf[3]\n",
    "\n",
    "\n",
    "print(\"Probability not more than 3 customers :\",y)\n",
    "print(\"Probability  more than 3 customers :\",1-y)\n",
    "\n",
    "plt.plot(cdf)\n",
    "plt.plot((3,3),(0,1)) #vertical line orange \n",
    "plt.scatter(3,cdf[3])\n",
    "plt.text(3,cdf[3],'({}, {})'.format(3, round(cdf[3],3)))\n",
    "plt.title('CDF of poisson distribution')\n",
    "plt.show()"
   ]
  },
  {
   "cell_type": "markdown",
   "id": "aware-occurrence",
   "metadata": {},
   "source": [
    "### Problem Statement 8:\n",
    "\n",
    "I work as a data analyst in Aeon Learning Pvt. Ltd. After analyzing data, I make\n",
    "reports, where I have the efficiency of entering 77 words per minute with 6 errors per\n",
    "hour. What is the probability that I will commit 2 errors in a 455-word financial report?\n",
    "What happens when the no. of words increases/decreases (in case of 1000 words,\n",
    "255 words)?\n",
    "How is the λ affected?\n",
    "How does it influence the PMF?\n",
    "Give a pictorial representation of the same to validate your answer."
   ]
  },
  {
   "cell_type": "markdown",
   "id": "discrete-representation",
   "metadata": {},
   "source": [
    "<img src=\"problem8.jpeg\">"
   ]
  },
  {
   "cell_type": "code",
   "execution_count": 8,
   "id": "bottom-steam",
   "metadata": {},
   "outputs": [
    {
     "name": "stdout",
     "output_type": "stream",
     "text": [
      " probability of commit 2 errors in a 455-word financial report :  0.09648066390804097\n",
      " probability of commit 2 errors in a 1000-word financial report :  0.22903905506982844\n",
      " probability of commit 2 errors in a 255-word financial report :  0.03914539728536837\n"
     ]
    }
   ],
   "source": [
    "from scipy.stats import poisson\n",
    "import matplotlib.pyplot as plt\n",
    "\n",
    "# the probability that I will commit 2 errors in a 455-word financial report\n",
    "mu = 0.59\n",
    "pmf_1 = poisson.pmf(k=2, mu =0.59)\n",
    "print(\" probability of commit 2 errors in a 455-word financial report : \", pmf_1)\n",
    "\n",
    "#What happens when the no. of words increases/decreases (in case of 1000 words, 255 words)\n",
    "pmf_2 = poisson.pmf(k=2,mu=1.29)\n",
    "print(\" probability of commit 2 errors in a 1000-word financial report : \", pmf_2)\n",
    "\n",
    "pmf_3 = poisson.pmf(k=2, mu = 0.33)\n",
    "print(\" probability of commit 2 errors in a 255-word financial report : \", pmf_3)\n",
    "\n",
    "\n",
    "\n"
   ]
  },
  {
   "cell_type": "code",
   "execution_count": 43,
   "id": "authorized-olive",
   "metadata": {},
   "outputs": [
    {
     "data": {
      "text/plain": [
       "<function matplotlib.pyplot.show(*args, **kw)>"
      ]
     },
     "execution_count": 43,
     "metadata": {},
     "output_type": "execute_result"
    },
    {
     "data": {
      "image/png": "[encoded data removed]",
      "text/plain": [
       "<Figure size 1296x576 with 2 Axes>"
      ]
     },
     "metadata": {
      "needs_background": "light"
     },
     "output_type": "display_data"
    }
   ],
   "source": [
    "import numpy as np\n",
    "fig = plt.figure(figsize=(18,8))\n",
    "\n",
    "x = np.arange(0,10)\n",
    "plt.subplot(1,2,1)\n",
    "plt.plot(x,poisson.pmf(x, mu =0.59) ,\"r\") # x = number of errors from 0 to 10\n",
    "plt.plot(x,poisson.pmf(x, mu =1.29),'y')\n",
    "plt.plot(x,poisson.pmf(x, mu =0.33),'g')\n",
    "\n",
    "plt.subplot(1,2,2)\n",
    "plt.plot(x,poisson.cdf(x,mu=0.59),'r')\n",
    "plt.plot(x,poisson.cdf(x,mu=1.29),'y')\n",
    "plt.plot(x,poisson.cdf(x,mu=0.33),'g')\n",
    "\n",
    "plt.show"
   ]
  },
  {
   "cell_type": "markdown",
   "id": "adapted-guard",
   "metadata": {},
   "source": [
    "### Problem Statement 9:\n",
    "\n",
    "Let the continuous random variable D denote the diameter of the hole drilled in an\n",
    "aluminum sheet. The target diameter to be achieved is 12.5mm. Random\n",
    "disturbances in the process often result in inaccuracy.\n",
    "Historical data shows that the distribution of D can be modelled by the PDF, f(d) =\n",
    "20e−20(d−12.5), d ≥ 12.5. If a part with diameter > 12.6 mm needs to be scrapped,\n",
    "what is the proportion of those parts? What is the CDF when the diameter is of 11\n",
    "mm?\n",
    "###### What is the conclusion of this experiment?"
   ]
  },
  {
   "cell_type": "markdown",
   "id": "timely-cylinder",
   "metadata": {},
   "source": [
    "   <img src=\"assign_1_1.jpeg\">\n",
    "   <img src=\"assing_2.jpeg\">"
   ]
  },
  {
   "cell_type": "markdown",
   "id": "cutting-holmes",
   "metadata": {},
   "source": [
    "# Problem Statement 10:\n",
    "\n",
    "##### Please compute the following:\n",
    "###### a) P(Z > 1.26), . P(Z < −0.86), P(Z > −1.37), P(−1.25 < Z < 0.37), . P(Z ≤ −4.6)\n",
    "###### b) Find the value z such that P(Z > z) = 0.05\n",
    "###### c) Find the value of z such that P(−z < Z < z) = 0.99"
   ]
  },
  {
   "cell_type": "markdown",
   "id": "mechanical-abuse",
   "metadata": {},
   "source": [
    "<img src=\"Prob_10_2.jpeg\">\n",
    "<img src=\"Prob_10_1.jpeg\">\n"
   ]
  },
  {
   "cell_type": "code",
   "execution_count": 80,
   "id": "favorite-demand",
   "metadata": {},
   "outputs": [],
   "source": [
    "from scipy.stats import norm\n",
    "\n",
    "#standar normal distribution mean = 0 , std. dev = 1\n",
    "mean=0\n",
    "std=1\n",
    "x=norm.pdf(np.arange(1.26,4,.74),mean,std)"
   ]
  },
  {
   "cell_type": "code",
   "execution_count": 81,
   "id": "hybrid-increase",
   "metadata": {},
   "outputs": [
    {
     "data": {
      "text/plain": [
       "array([0.18037116, 0.05399097, 0.00934664, 0.00093577])"
      ]
     },
     "execution_count": 81,
     "metadata": {},
     "output_type": "execute_result"
    }
   ],
   "source": [
    "x\n"
   ]
  },
  {
   "cell_type": "code",
   "execution_count": 82,
   "id": "acceptable-sauce",
   "metadata": {},
   "outputs": [
    {
     "data": {
      "text/plain": [
       "0.24464454026480814"
      ]
     },
     "execution_count": 82,
     "metadata": {},
     "output_type": "execute_result"
    }
   ],
   "source": [
    "sum(x)"
   ]
  },
  {
   "cell_type": "code",
   "execution_count": 84,
   "id": "hollow-bookmark",
   "metadata": {},
   "outputs": [
    {
     "data": {
      "text/plain": [
       "[<matplotlib.lines.Line2D at 0x183cedf1550>]"
      ]
     },
     "execution_count": 84,
     "metadata": {},
     "output_type": "execute_result"
    },
    {
     "data": {
      "image/png": "[encoded data removed]",
      "text/plain": [
       "<Figure size 432x288 with 1 Axes>"
      ]
     },
     "metadata": {
      "needs_background": "light"
     },
     "output_type": "display_data"
    }
   ],
   "source": [
    "plt.plot(norm.pdf(np.arange(0,5),mean,std))\n",
    "plt.plot(norm.pdf(np.arange(1.5,4),mean,std))"
   ]
  },
  {
   "cell_type": "code",
   "execution_count": 86,
   "id": "damaged-poverty",
   "metadata": {},
   "outputs": [
    {
     "data": {
      "text/plain": [
       "array([1.5, 2.5, 3.5])"
      ]
     },
     "execution_count": 86,
     "metadata": {},
     "output_type": "execute_result"
    }
   ],
   "source": [
    "np.arange(1.5,4)"
   ]
  },
  {
   "cell_type": "code",
   "execution_count": 85,
   "id": "turkish-spouse",
   "metadata": {},
   "outputs": [
    {
     "data": {
      "text/plain": [
       "array([0.1295176 , 0.0175283 , 0.00087268])"
      ]
     },
     "execution_count": 85,
     "metadata": {},
     "output_type": "execute_result"
    }
   ],
   "source": [
    "norm.pdf(np.arange(1.5,4),mean,std)"
   ]
  },
  {
   "cell_type": "code",
   "execution_count": 87,
   "id": "advised-embassy",
   "metadata": {},
   "outputs": [
    {
     "data": {
      "text/plain": [
       "0.14791857885450604"
      ]
     },
     "execution_count": 87,
     "metadata": {},
     "output_type": "execute_result"
    }
   ],
   "source": [
    "sum(norm.pdf(np.arange(1.5,4),mean,std))"
   ]
  },
  {
   "cell_type": "code",
   "execution_count": 88,
   "id": "parental-verse",
   "metadata": {},
   "outputs": [
    {
     "data": {
      "text/plain": [
       "array([-3.   , -2.999, -2.998, ...,  2.997,  2.998,  2.999])"
      ]
     },
     "execution_count": 88,
     "metadata": {},
     "output_type": "execute_result"
    }
   ],
   "source": [
    "np.arange(-3,3,0.001)"
   ]
  },
  {
   "cell_type": "code",
   "execution_count": 89,
   "id": "bibliographic-transfer",
   "metadata": {},
   "outputs": [
    {
     "data": {
      "image/png": "[encoded data removed]",
      "text/plain": [
       "<Figure size 432x288 with 1 Axes>"
      ]
     },
     "metadata": {
      "needs_background": "light"
     },
     "output_type": "display_data"
    }
   ],
   "source": [
    "range = np.arange(-3,3,0.001)\n",
    "plt.plot(range, norm.pdf(range, 0, 1))\n",
    "plt.show()"
   ]
  },
  {
   "cell_type": "markdown",
   "id": "behavioral-broadcast",
   "metadata": {},
   "source": [
    "# Problem Statement 11:\n",
    "\n",
    " The current flow in a copper wire follow a normal distribution with a mean of 10 mA\n",
    "and a variance of 4 (mA)2.\n",
    "What is the probability that a current measurement will exceed 13 mA? What is the\n",
    "probability that a current measurement is between 9 and 11mA? Determine the\n",
    "current measurement which has a probability of 0.98."
   ]
  },
  {
   "cell_type": "code",
   "execution_count": 94,
   "id": "stuck-wallet",
   "metadata": {},
   "outputs": [],
   "source": [
    "from scipy import stats\n",
    "\n",
    "current_mean = 10\n",
    "current_variance = 4\n",
    "current_std = 4**0.5\n",
    "#z_score for 13 ma current mearurement \n",
    "z = (13-10)/2\n",
    "#P(Z>1.5)"
   ]
  },
  {
   "cell_type": "markdown",
   "id": "statewide-insulin",
   "metadata": {},
   "source": [
    "<img src=\"prob_11.jpeg\">\n",
    "<img src=\"prob_11_2.jpeg\">\n",
    "<img src=\"prob_12.jpeg\">"
   ]
  },
  {
   "cell_type": "code",
   "execution_count": null,
   "id": "waiting-whale",
   "metadata": {},
   "outputs": [],
   "source": []
  }
 ],
 "metadata": {
  "kernelspec": {
   "display_name": "Python 3",
   "language": "python",
   "name": "python3"
  },
  "language_info": {
   "codemirror_mode": {
    "name": "ipython",
    "version": 3
   },
   "file_extension": ".py",
   "mimetype": "text/x-python",
   "name": "python",
   "nbconvert_exporter": "python",
   "pygments_lexer": "ipython3",
   "version": "3.7.0"
  }
 },
 "nbformat": 4,
 "nbformat_minor": 5
}
